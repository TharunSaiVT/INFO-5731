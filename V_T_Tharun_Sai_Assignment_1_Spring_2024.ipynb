{
  "cells": [
    {
      "cell_type": "markdown",
      "metadata": {
        "id": "view-in-github",
        "colab_type": "text"
      },
      "source": [
        "<a href=\"https://colab.research.google.com/github/TharunSaiVT/INFO-5731/blob/main/V_T_Tharun_Sai_Assignment_1_Spring_2024.ipynb\" target=\"_parent\"><img src=\"https://colab.research.google.com/assets/colab-badge.svg\" alt=\"Open In Colab\"/></a>"
      ]
    },
    {
      "cell_type": "markdown",
      "metadata": {
        "id": "Ryk8D1Q4Wsrp"
      },
      "source": [
        "# **INFO5731 Assignment One**"
      ]
    },
    {
      "cell_type": "markdown",
      "source": [
        "This assignment includes range of programming tasks and data analysis exercises, aiming to enhance your Python skills and proficiency in string manipulation, numerical computations, and data science. Follow the instructions carefully and design well-structured Python programs to address each question.\n",
        "\n",
        "Late Submission will have a penalty of 10% reduction for each day after the deadline."
      ],
      "metadata": {
        "id": "qcP6re2g5A5r"
      }
    },
    {
      "cell_type": "markdown",
      "metadata": {
        "id": "JkzR8cFAyGik"
      },
      "source": [
        "# Question 1 (10 points).\n",
        "\n",
        "The formula that describes the volume V of a hemisphere with radius r is the following:\n",
        "\n",
        "$ V=\\frac{2}{3}\\ast\\ \\pi\\ast\\ r^3 $\n",
        "\n",
        "Write a program to calculate the value of V when r is in the range of even numbers from 1-20. Output the result in the following format:\n",
        "\n",
        "\tr\tV\n",
        "\t2\t…\n",
        "\t4\t…\n",
        "\t6\t…\n",
        "\t.\n",
        "\t.\n",
        "\t.\n",
        "\t20\t…\n"
      ]
    },
    {
      "cell_type": "code",
      "execution_count": 28,
      "metadata": {
        "id": "jDyTKYs-yGit",
        "colab": {
          "base_uri": "https://localhost:8080/"
        },
        "outputId": "f6b13d1d-b941-41d5-c865-d5b864fec768"
      },
      "outputs": [
        {
          "output_type": "stream",
          "name": "stdout",
          "text": [
            "r \t V\n",
            "2 \t 16.76\n",
            "4 \t 134.04\n",
            "6 \t 452.39\n",
            "8 \t 1072.33\n",
            "10 \t 2094.40\n",
            "12 \t 3619.11\n",
            "14 \t 5747.02\n",
            "16 \t 8578.64\n",
            "18 \t 12214.51\n",
            "20 \t 16755.16\n"
          ]
        }
      ],
      "source": [
        "# Your code here Hemis\n",
        "import math                         #Importing the Math function to use in the formula\n",
        "print(\"r \\t V\")                     #Printing Just the variables as given in the expected Output\n",
        "\n",
        "for i in range (2,21,2):            #Using forLoop to iterate through every even number\n",
        "  V = (2/3) * math.pi * i**3        #Using Math.pi to use the Pi in the formula\n",
        "  print(i,\"\\t\",f\"{V:.2f}\")          #Printing the Volume of the Hemipshere\n",
        "\n",
        "\n"
      ]
    },
    {
      "cell_type": "markdown",
      "metadata": {
        "id": "90_NR8c5XGWc"
      },
      "source": [
        "# Question 2 (20 points)\n",
        "\n",
        "(a) Write a Python program to generate a sequence of 12 random numbers falling within the range of 50 to 150.\n",
        "\n",
        "(b) Arrange the generated numbers in ascending order. Display the sorted list.\n",
        "\n",
        "(c) Extend the program to arrange the numbers in descending order as well. Present the sorted list accordingly.\n",
        "\n",
        "(d) Compute and output the average of the entire group of generated numbers.\n",
        "\n",
        "(e) Enhance the program to calculate and display the average of the first 6 numbers from both the ascending and descending sorted lists."
      ]
    },
    {
      "cell_type": "code",
      "execution_count": 46,
      "metadata": {
        "id": "5QX6bJjGWXY9",
        "colab": {
          "base_uri": "https://localhost:8080/"
        },
        "outputId": "1bc674be-f785-4885-bc61-42b3be5aa785"
      },
      "outputs": [
        {
          "output_type": "stream",
          "name": "stdout",
          "text": [
            "The list of generated random numbers: \n",
            " [148, 69, 105, 65, 90, 58, 76, 90, 127, 148, 125, 105] \n",
            "\n",
            "The generated numbers in ascending order: \n",
            " [58, 65, 69, 76, 90, 90, 105, 105, 125, 127, 148, 148] \n",
            "\n",
            "The generated numbers in descending order: \n",
            " [148, 148, 127, 125, 105, 105, 90, 90, 76, 69, 65, 58] \n",
            "\n",
            "Output of the average of the entire group of generated numbers: \n",
            " 100.5 \n",
            "\n",
            "Output of the average of first 6 numbers of ascending numbers: \n",
            " 74.66666666666667 \n",
            "\n",
            "Output of the average of first 6 numbers of descending numbers: \n",
            " 126.33333333333333 \n",
            "\n"
          ]
        }
      ],
      "source": [
        "# Write code for each of the sub parts with proper comments.\n",
        "import random\n",
        "import statistics\n",
        "\n",
        "\n",
        "res = []\n",
        "for j in range(12):\n",
        "    res.append(random.randint(50, 150))\n",
        "print(\"The list of generated random numbers: \\n\",res,\"\\n\")\n",
        "\n",
        "asce = sorted(res)\n",
        "print(\"The generated numbers in ascending order: \\n\",asce,\"\\n\")\n",
        "\n",
        "des = sorted(res,reverse=True)\n",
        "print(\"The generated numbers in descending order: \\n\",des,\"\\n\")\n",
        "\n",
        "ave = statistics.mean(res)\n",
        "print(\"Output of the average of the entire group of generated numbers: \\n\",ave,\"\\n\")\n",
        "\n",
        "x = asce[0:6]\n",
        "res2 = statistics.mean(x)\n",
        "print(\"Output of the average of first 6 numbers of ascending numbers: \\n\",res2,\"\\n\")\n",
        "\n",
        "y = des[0:6]\n",
        "res2 = statistics.mean(y)\n",
        "print(\"Output of the average of first 6 numbers of descending numbers: \\n\",res2,\"\\n\")\n",
        "\n"
      ]
    },
    {
      "cell_type": "markdown",
      "metadata": {
        "id": "1F_PZdH9Sh49"
      },
      "source": [
        "# Question 3 (20 points).\n",
        "\n",
        "Create a Python program that encompasses various string manipulation task:\n",
        "\n",
        "(a) Prompt the user to input two sentences.\n",
        "\n",
        "(b) Transform each sentence into a list, where each element corresponds to a word in the sentence. For example, if the sentences are \"Hello, how are you doing today?\" and \"This is an example sentence for the program!\"\n",
        "\n",
        "The program should output:\n",
        "['Hello', ',', 'how', 'are', 'you', 'doing', 'today', '?', 'This', 'is', 'an', 'example', 'sentence', 'for', 'the', 'program', '!']\n",
        "\n",
        "(c) Compare the two sentences. Print out a list of words that occur in both sentences.\n",
        "\n",
        "(d) Remove any punctuation from the sentence and print the sanitized sentences. It should remove at least the following characters, but it can remove more: period(“.”), comma (“,”), semicolon (“;”), and colon (“:”).\n",
        "\n",
        "(e) Count the number of vowels in each of the sentences. Print out each vowel and the occurrences  in the each of the two sentences separately, such as:\n",
        "\n",
        "Sentence1: a:2, e:2, i:0, etc.\n",
        "Sentence2: a:1, e:2, i:2, etc.\n",
        "\n",
        "Design a well-structured Python program to execute these tasks efficiently."
      ]
    },
    {
      "cell_type": "code",
      "execution_count": 64,
      "metadata": {
        "id": "Y0oOSlsOS0cq",
        "colab": {
          "base_uri": "https://localhost:8080/"
        },
        "outputId": "c5cc9e22-ff17-4c94-f38e-56f2a94105e9"
      },
      "outputs": [
        {
          "output_type": "stream",
          "name": "stdout",
          "text": [
            "Enter a sentence: Hello, how are you doing today?\n",
            "Enter another sentence: This is an example sentence for the program!\n",
            "Words in sentence 1: \n",
            " ['Hello', ',', 'how', 'are', 'you', 'doing', 'today', '?'] \n",
            "\n",
            "Words in sentence 2: \n",
            " ['This', 'is', 'an', 'example', 'sentence', 'for', 'the', 'program', '!'] \n",
            "\n",
            "Words in the both sentences: \n",
            " ['Hello', ',', 'how', 'are', 'you', 'doing', 'today', '?', 'This', 'is', 'an', 'example', 'sentence', 'for', 'the', 'program', '!'] \n",
            "\n",
            "list of words that occur in both sentences :\n",
            " [] \n",
            "\n",
            "Sanitized sentence 1: :\n",
            " Hello how are you doing today \n",
            "\n",
            "Sanitized sentence 2: :\n",
            " This is an example sentence for the program \n",
            "\n",
            "Vowel count in sentence 1: \n",
            " {'a': 2, 'e': 2, 'i': 1, 'o': 5, 'u': 1, 'A': 0, 'E': 0, 'I': 0, 'O': 0, 'U': 0} \n",
            "\n",
            "Vowel count in sentence 2: :\n",
            " {'a': 3, 'e': 6, 'i': 2, 'o': 2, 'u': 0, 'A': 0, 'E': 0, 'I': 0, 'O': 0, 'U': 0} \n",
            "\n"
          ]
        }
      ],
      "source": [
        "# Your code here\n",
        "import re\n",
        "import string\n",
        "\n",
        "sen1 = input(\"Enter a sentence: \")\n",
        "sen2 = input(\"Enter another sentence: \")\n",
        "\n",
        "words1 = re.findall(r\"[\\w']+|[.,!?;]\",sen1)\n",
        "words2 = re.findall(r\"[\\w']+|[.,!?;]\",sen2)\n",
        "print(\"Words in sentence 1: \\n\", words1,\"\\n\")\n",
        "print(\"Words in sentence 2: \\n\", words2,\"\\n\")\n",
        "\n",
        "Total_words = words1 + words2\n",
        "print(\"Words in the both sentences: \\n\",Total_words,\"\\n\")\n",
        "\n",
        "words1 = set(words1)\n",
        "words2 = set(words2)\n",
        "Cmmn = list(words1.intersection(words2))\n",
        "print(\"list of words that occur in both sentences :\\n\",Cmmn,\"\\n\")\n",
        "\n",
        "remove_punctuation = sen1.translate(str.maketrans('', '', string.punctuation))\n",
        "remove_punctuation1 = sen2.translate(str.maketrans('', '', string.punctuation))\n",
        "print(\"Sanitized sentence 1: :\\n\",remove_punctuation,\"\\n\")\n",
        "print(\"Sanitized sentence 2: :\\n\",remove_punctuation1,\"\\n\")\n",
        "\n",
        "vowels = 'aeiouAEIOU'\n",
        "vowel_count = {vowel: 0 for vowel in vowels}\n",
        "for char in sen1:\n",
        "    if char in vowels:\n",
        "        vowel_count[char] += 1\n",
        "\n",
        "\n",
        "vowels = 'aeiouAEIOU'\n",
        "vowel_count1 = {vowel: 0 for vowel in vowels}\n",
        "for char in sen2:\n",
        "    if char in vowels:\n",
        "        vowel_count1[char] += 1\n",
        "\n",
        "\n",
        "print(\"Vowel count in sentence 1: \\n\",vowel_count,\"\\n\")\n",
        "print(\"Vowel count in sentence 2: :\\n\",vowel_count1,\"\\n\")\n"
      ]
    },
    {
      "cell_type": "markdown",
      "source": [
        "# Question 4 (20 Points)"
      ],
      "metadata": {
        "id": "OP4-5qxAtInv"
      }
    },
    {
      "cell_type": "markdown",
      "source": [
        "Design and implement a simple command-line calculator program. The program should handle both integers and floating-point numbers.\n",
        "\n",
        "(a) Write program that takes a mathematical expression as input and evaluates it. The program should support addition, subtraction, multiplication, and division.\n",
        "\n",
        "(b) Extend the calculator to handle parentheses in mathematical expressions. Implement the necessary logic to evaluate expressions with nested parentheses.\n",
        "\n",
        "(c) Enhance your calculator to include additional mathematical operations such as exponentiation, square root, and modulus.\n",
        "\n",
        "(d) Implement error handling in the calculator program. Handle cases such as division by zero and invalid input expressions. Provide meaningful error messages.\n",
        "\n",
        "(e) Implement a command to exit the calculator."
      ],
      "metadata": {
        "id": "uzN4_hDptK9U"
      }
    },
    {
      "cell_type": "code",
      "source": [
        "# Your code here\n",
        "# Your code here\n",
        "\n",
        "import math\n",
        "import re\n",
        "import sys\n",
        "\n",
        "def evaluate_expression(expression):\n",
        "    try:\n",
        "        return eval(expression)\n",
        "    except ZeroDivisionError:\n",
        "        return \"Error: Division by zero!\"\n",
        "    except Exception as e:\n",
        "        return f\"Error: {e}\"\n",
        "\n",
        "def calculate():\n",
        "    print(\"Welcome to the Command-Line Calculator!\")\n",
        "    print(\"Enter 'exit' to quit.\")\n",
        "\n",
        "    while True:\n",
        "        expression = input(\"Enter mathematical expression: \")\n",
        "\n",
        "        if expression.lower() == 'exit':\n",
        "            print(\"Exiting calculator.\")\n",
        "            sys.exit()\n",
        "\n",
        "        try:\n",
        "            # Evaluate the expression\n",
        "            result = evaluate_expression(expression)\n",
        "            print(\"Result:\", result)\n",
        "        except Exception as e:\n",
        "            print(f\"Error: {e}\")\n",
        "\n",
        "def main():\n",
        "    calculate()\n",
        "\n",
        "if __name__ == \"_main_\":\n",
        "    main()"
      ],
      "metadata": {
        "id": "8nQnVxjJuYtu"
      },
      "execution_count": 75,
      "outputs": []
    },
    {
      "cell_type": "markdown",
      "metadata": {
        "id": "z3tBE7E-Xn5X"
      },
      "source": [
        "# Question 5 (30 points).\n",
        "\n",
        "In the field of Data Science, data is often formatted as a comma-delimited (CSV) file, where each line in a file corresponds to a field's value. Refer to Chapter 9 (p. 106) for more information on comma-delimited files.\n",
        "\n",
        "To answer this question, you will need to download the file [Assignment1_denton_housing.csv](https://raw.githubusercontent.com/unt-iialab/info5731-spring2022/main/assignments/Assignment1_denton_housing.csv) included with this assignment. The file contains statistics about housing in the city of Denton from 2008 to 2014. Write a program to implement the following questions.\n",
        "\n",
        "(a) (5 pts) Calculate the difference in the number of Occupied Housing Units from year to year and print it. The difference must be calculated for the consecutive years such as 2008-2009, 2009-2010 etc. Finally, print the values in the ascending order.\n",
        "\n",
        "(b) (5 pts) For all the years, calculate the percentage of housing units which are vacant an occupied. Print the results in the following format:\n",
        "\n",
        "Year Vacant Housing Units Occupied Housing Units\n",
        "\n",
        "    2008  30%   70%                          \n",
        "\t2009 ----- -----\n",
        "\t2010 ----- -----\n",
        "    2011 ----- -----\n",
        "\t2012 ----- -----\n",
        "    2013 ----- -----\n",
        "\t2014 ----- -----\n",
        "  \n",
        "  \n",
        "\n",
        "(c) (10 pts) Calculate and print the valued and years in which the highest number of housing units were vacant and occupied. Print the results in the following format:  \n",
        "\n",
        "                              Year\tValue\n",
        "\tVacant Housing Units\t  -----   -----\n",
        "\tOccupied Housing Units\t-----   -----\n",
        "\n",
        "(d) (10 pts) Calculate the harmonic mean of the total housing units and print it out. You can find the information about harmonic mean here: https://ncalculators.com/statistics/harmonic-mean-calculator.htm"
      ]
    },
    {
      "cell_type": "code",
      "execution_count": 90,
      "metadata": {
        "id": "lqGYuHBhcsRH",
        "colab": {
          "base_uri": "https://localhost:8080/"
        },
        "outputId": "f7633434-2f3f-46c6-8da6-fd26038c8067"
      },
      "outputs": [
        {
          "output_type": "stream",
          "name": "stdout",
          "text": [
            "Drive already mounted at /content/drive; to attempt to forcibly remount, call drive.mount(\"/content/drive\", force_remount=True).\n",
            "Difference in Occupied Housing Units from year to year:\n",
            "2008-2009: -795\n",
            "2009-2010: 5091\n",
            "2010-2011: -303\n",
            "2011-2012: 1404\n",
            "2012-2013: 1565\n",
            "2013-2014: 2622\n",
            "\n",
            "Percentage of housing units which are vacant and occupied for each year:\n",
            "Year\tVacant Housing Units\tOccupied Housing Units\n",
            "2008\t10.88%\t\t\t89.12%\n",
            "2009\t9.07%\t\t\t90.93%\n",
            "2010\t8.14%\t\t\t91.86%\n",
            "2011\t9.38%\t\t\t90.62%\n",
            "2012\t6.68%\t\t\t93.32%\n",
            "2013\t8.80%\t\t\t91.20%\n",
            "2014\t5.73%\t\t\t94.27%\n",
            "\n",
            "Year and value in which the highest number of housing units were vacant and occupied:\n",
            "Year\tValue\n",
            "Total Housing Units\t2014\t49109\n",
            "Vacant Housing Units\t2008\t4483\n",
            "Occupied Housing Units\t2014\t46295\n",
            "\n",
            "Harmonic mean of the total housing units: 44398.29\n"
          ]
        }
      ],
      "source": [
        "import csv\n",
        "from collections import defaultdict\n",
        "import numpy as np\n",
        "import pandas as pandas\n",
        "\n",
        "# Your code here\n",
        "import pandas as pd\n",
        "import io\n",
        "\n",
        "from google.colab import drive\n",
        "drive.mount('/content/drive')\n",
        "data = pd.read_csv('/content/drive/MyDrive/info_5731/Assignment1_denton_housing.csv')\n",
        "\n",
        "\n",
        "import pandas as pd\n",
        "from collections import defaultdict\n",
        "import numpy as np\n",
        "\n",
        "def calculate_difference(data):\n",
        "    differences = {}\n",
        "    years = sorted(data['year'].unique())\n",
        "    for i in range(len(years) - 1):\n",
        "        curr_year = years[i]\n",
        "        next_year = years[i + 1]\n",
        "        occupied_curr = data.loc[(data['year'] == curr_year) & (data['title_field'] == 'Occupied Housing Units'), 'value'].iloc[0]\n",
        "        occupied_next = data.loc[(data['year'] == next_year) & (data['title_field'] == 'Occupied Housing Units'), 'value'].iloc[0]\n",
        "        difference = occupied_next - occupied_curr\n",
        "        differences[f\"{curr_year}-{next_year}\"] = difference\n",
        "    return differences\n",
        "\n",
        "def calculate_percentage(data):\n",
        "    percentages = {}\n",
        "    for year, group in data.groupby('year'):\n",
        "        total_units = group.loc[group['title_field'] == 'Total Housing Units', 'value'].iloc[0]\n",
        "        vacant_units = group.loc[group['title_field'] == 'Vacant Housing Units', 'value'].iloc[0]\n",
        "        occupied_units = group.loc[group['title_field'] == 'Occupied Housing Units', 'value'].iloc[0]\n",
        "        vacant_percentage = (vacant_units / total_units) * 100\n",
        "        occupied_percentage = (occupied_units / total_units) * 100\n",
        "        percentages[year] = (vacant_percentage, occupied_percentage)\n",
        "    return percentages\n",
        "\n",
        "def print_percentage_results(data):\n",
        "    print(\"Year\\tVacant Housing Units\\tOccupied Housing Units\")\n",
        "    for year, percentages in data.items():\n",
        "        vacant_percentage, occupied_percentage = percentages\n",
        "        print(f\"{year}\\t{vacant_percentage:.2f}%\\t\\t\\t{occupied_percentage:.2f}%\")\n",
        "\n",
        "def calculate_max_values(data):\n",
        "    max_values = defaultdict(list)\n",
        "    for year, group in data.groupby('year'):\n",
        "        for idx, row in group.iterrows():\n",
        "            if 'housing units' in row['title_field'].lower():\n",
        "                max_values[row['title_field']].append((year, row['value']))\n",
        "    max_values = {key: max(vals, key=lambda x: x[1]) for key, vals in max_values.items()}\n",
        "    return max_values\n",
        "\n",
        "def print_max_values(data):\n",
        "    print(\"Year\\tValue\")\n",
        "    for key, (year, value) in data.items():\n",
        "        print(f\"{key}\\t{year}\\t{value}\")\n",
        "\n",
        "def calculate_harmonic_mean(data):\n",
        "    total_units = data.loc[data['title_field'] == 'Total Housing Units', 'value'].tolist()\n",
        "    harmonic_mean = len(total_units) / np.sum(1 / np.array(total_units))\n",
        "    return harmonic_mean\n",
        "\n",
        "if __name__ == \"__main__\":\n",
        "    filename = \"Assignment1_denton_housing.csv\"\n",
        "    housing_data = pd.read_csv('/content/drive/MyDrive/info_5731/Assignment1_denton_housing.csv')\n",
        "\n",
        "    # (a) Calculate the difference in the number of Occupied Housing Units from year to year\n",
        "    differences = calculate_difference(housing_data)\n",
        "    print(\"Difference in Occupied Housing Units from year to year:\")\n",
        "    for year_diff, difference in sorted(differences.items()):\n",
        "        print(f\"{year_diff}: {difference}\")\n",
        "\n",
        "    # (b) Calculate the percentage of housing units which are vacant and occupied for each year\n",
        "    percentages = calculate_percentage(housing_data)\n",
        "    print(\"\\nPercentage of housing units which are vacant and occupied for each year:\")\n",
        "    print_percentage_results(percentages)\n",
        "\n",
        "    # (c) Calculate and print the valued and years in which the highest number of housing units were vacant and occupied\n",
        "    max_values = calculate_max_values(housing_data)\n",
        "    print(\"\\nYear and value in which the highest number of housing units were vacant and occupied:\")\n",
        "    print_max_values(max_values)\n",
        "\n",
        "    # (d) Calculate the harmonic mean of the total housing units\n",
        "    harmonic_mean = calculate_harmonic_mean(housing_data)\n",
        "    print(f\"\\nHarmonic mean of the total housing units: {harmonic_mean:.2f}\")\n",
        "\n"
      ]
    },
    {
      "cell_type": "markdown",
      "source": [
        "# Mandatory Question\n",
        "\n",
        "Provide your thoughts on the assignment. What did you find challenging, and what aspects did you enjoy? Your opinion on the provided time to complete the assignment. Share any suggestions for improvement. Your feedback will be valuable for enhancing the learning experience."
      ],
      "metadata": {
        "id": "q8BFCvWp32cf"
      }
    },
    {
      "cell_type": "code",
      "source": [
        "# Write your response below\n",
        "\n",
        "This is the challenging assignment. The last 2 questions are more challenging for us as we are the beginners in coding. Overall it is good."
      ],
      "metadata": {
        "id": "_e557s2w4BpK"
      },
      "execution_count": null,
      "outputs": []
    }
  ],
  "metadata": {
    "colab": {
      "provenance": [],
      "include_colab_link": true
    },
    "kernelspec": {
      "display_name": "Python 3 (ipykernel)",
      "language": "python",
      "name": "python3"
    },
    "language_info": {
      "codemirror_mode": {
        "name": "ipython",
        "version": 3
      },
      "file_extension": ".py",
      "mimetype": "text/x-python",
      "name": "python",
      "nbconvert_exporter": "python",
      "pygments_lexer": "ipython3",
      "version": "3.9.12"
    }
  },
  "nbformat": 4,
  "nbformat_minor": 0
}