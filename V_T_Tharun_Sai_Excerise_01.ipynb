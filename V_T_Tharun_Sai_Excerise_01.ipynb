{
  "cells": [
    {
      "cell_type": "markdown",
      "metadata": {
        "id": "view-in-github",
        "colab_type": "text"
      },
      "source": [
        "<a href=\"https://colab.research.google.com/github/TharunSaiVT/INFO-5731/blob/main/V_T_Tharun_Sai_Excerise_01.ipynb\" target=\"_parent\"><img src=\"https://colab.research.google.com/assets/colab-badge.svg\" alt=\"Open In Colab\"/></a>"
      ]
    },
    {
      "cell_type": "markdown",
      "metadata": {
        "id": "DymRJbxDBCnf"
      },
      "source": [
        "# **This first In-class-exercise cover a variety of fundamental concepts in Python and are designed to help individuals improve their coding skills and problem-solving abilities.**\n",
        "\n",
        "The submission is due on 01/31/2024 11:59 PM. This submission is worth 40 points in total.\n"
      ]
    },
    {
      "cell_type": "markdown",
      "source": [
        "(1) Write a Python program that  prompts the user to input the length and width of a rectangle, and then calculates and displays the area of the rectangle."
      ],
      "metadata": {
        "id": "FBKvD6O_TY6e"
      }
    },
    {
      "cell_type": "code",
      "source": [
        "# write your answer here\n",
        "x = int(input(\"Enter the Length of a rectangle: \"))\n",
        "y = int(input(\"Enter the Width of a rectangle: \"))\n",
        "\n",
        "area = x*y\n",
        "print(\"Area of the Rectangle is:\", area)"
      ],
      "metadata": {
        "id": "cikVKDXdTbzE",
        "colab": {
          "base_uri": "https://localhost:8080/"
        },
        "outputId": "725ac1cb-00ae-44b8-c66a-f35dfaec8cd1"
      },
      "execution_count": 60,
      "outputs": [
        {
          "output_type": "stream",
          "name": "stdout",
          "text": [
            "Enter the Length of a rectangle: 4\n",
            "Enter the Width of a rectangle: 4\n",
            "Area of the Rectangle is: 16\n"
          ]
        }
      ]
    },
    {
      "cell_type": "markdown",
      "source": [
        "(2) Create a Python program that interactively takes two numerical inputs from the user and swaps their values without utilizing an extra variable."
      ],
      "metadata": {
        "id": "E9RqrlwdTfvl"
      }
    },
    {
      "cell_type": "code",
      "source": [
        "# write your answer here\n",
        "x = int(input(\"Enter the first input x : \"))\n",
        "y = int(input(\"Enter the second input y : \"))\n",
        "\n",
        "def swap_num(x,y):\n",
        "  x = x+y\n",
        "  y = x-y\n",
        "  x = x-y\n",
        "  return (x,y)\n",
        "\n",
        "z = swap_num(x,y)\n",
        "print(\"The Swapped numbers of x and y are:\",z)"
      ],
      "metadata": {
        "id": "4XvRknixTh1g",
        "colab": {
          "base_uri": "https://localhost:8080/"
        },
        "outputId": "e14f62eb-b40e-4d3a-fc55-89e526e86987"
      },
      "execution_count": 61,
      "outputs": [
        {
          "output_type": "stream",
          "name": "stdout",
          "text": [
            "Enter the first input x : 4\n",
            "Enter the second input y : 5\n",
            "The Swapped numbers of x and y are: (5, 4)\n"
          ]
        }
      ]
    },
    {
      "cell_type": "markdown",
      "metadata": {
        "id": "03jb4GZsBkBS"
      },
      "source": [
        "(3) Write a Python script to determine and print the length of a user-input string."
      ]
    },
    {
      "cell_type": "code",
      "execution_count": 62,
      "metadata": {
        "id": "YaGLbSHHB8Ej",
        "colab": {
          "base_uri": "https://localhost:8080/"
        },
        "outputId": "6469ed16-c04a-4911-912f-eea97d839753"
      },
      "outputs": [
        {
          "output_type": "stream",
          "name": "stdout",
          "text": [
            "Enter the String of your wish : tharun\n",
            "The Length of the entered string is 6\n"
          ]
        }
      ],
      "source": [
        "# write your answer here\n",
        "X = input(\"Enter the String of your wish : \")\n",
        "n = len(X)\n",
        "print(\"The Length of the entered string is\", n)"
      ]
    },
    {
      "cell_type": "markdown",
      "metadata": {
        "id": "jJDe71iLB616"
      },
      "source": [
        "(4) Construct a Python program that counts and displays the occurrences of each character in a given string.\n",
        "\n",
        "Sample String: 'openai.ai',\n",
        "\n",
        "Expected Result: {'a': 2, 'i': 2, '.': 1, 'o': 1, 'p': 1, 'e': 1, 'n': 1}"
      ]
    },
    {
      "cell_type": "code",
      "execution_count": 63,
      "metadata": {
        "id": "MtKskTzbCLaU",
        "colab": {
          "base_uri": "https://localhost:8080/"
        },
        "outputId": "1baf7519-9a18-4ed2-a1a0-dfd29be6f3bd"
      },
      "outputs": [
        {
          "output_type": "stream",
          "name": "stdout",
          "text": [
            "Enter a String : sai\n",
            "The num of each character repeated in a given string:  {'s': 1, 'a': 1, 'i': 1}\n"
          ]
        }
      ],
      "source": [
        "# write your answer here\n",
        "x = input(\"Enter a String : \")\n",
        "occ = {}\n",
        "\n",
        "for n in x:\n",
        "  if n in occ:\n",
        "    occ[n] += 1\n",
        "  else:\n",
        "    occ[n] = 1\n",
        "\n",
        "print(\"The num of each character repeated in a given string: \", occ)\n"
      ]
    },
    {
      "cell_type": "markdown",
      "metadata": {
        "id": "55W9AMdXCSpV"
      },
      "source": [
        "(5) Design a Python code to calculate the sum of all elements in a user-provided list.\n",
        "\n",
        "> Indented block\n",
        "\n"
      ]
    },
    {
      "cell_type": "code",
      "execution_count": 64,
      "metadata": {
        "id": "I57NXsauCec2",
        "colab": {
          "base_uri": "https://localhost:8080/"
        },
        "outputId": "e3ae01ca-0c10-4bf4-80b2-38f094ca9a31"
      },
      "outputs": [
        {
          "output_type": "stream",
          "name": "stdout",
          "text": [
            "Enter number of elements : 5\n",
            "1\n",
            "2\n",
            "4\n",
            "6\n",
            "3\n",
            "The user provided list is : [1, 2, 4, 6, 3]\n",
            "The sum of all elements in a user provided list is : 16\n"
          ]
        }
      ],
      "source": [
        "# write your answer here\n",
        "\n",
        "lst = []\n",
        "\n",
        "x = int(input(\"Enter number of elements : \"))\n",
        "\n",
        "for i in range(0, x):\n",
        "\tele = int(input())\n",
        "\tlst.append(ele)\n",
        "\n",
        "print(\"The user provided list is :\",lst)\n",
        "total = sum(lst)\n",
        "print(\"The sum of all elements in a user provided list is :\",total)"
      ]
    },
    {
      "cell_type": "markdown",
      "metadata": {
        "id": "4ulBZ6yhCi9F"
      },
      "source": [
        "(6) Write a Python program that modifies a given string by replacing all occurrences of its first character with '$', excluding the first character itself.\n",
        "\n",
        "\n",
        "Sample String : 'restart‘,\n",
        "\n",
        "Expected Result : 'resta\\$t'"
      ]
    },
    {
      "cell_type": "code",
      "execution_count": 65,
      "metadata": {
        "id": "Fj0XhwbBCw2o",
        "colab": {
          "base_uri": "https://localhost:8080/"
        },
        "outputId": "60c0ae59-4760-4c99-caac-a47f83377b19"
      },
      "outputs": [
        {
          "output_type": "stream",
          "name": "stdout",
          "text": [
            "Enter a String : harsha\n",
            "Replaced String : hars$a\n"
          ]
        }
      ],
      "source": [
        "# write your answer here\n",
        "x = input(\"Enter a String : \")\n",
        "\n",
        "modified_str = \"\"\n",
        "p = '$'\n",
        "\n",
        "for i in x:\n",
        "  if i == x[0] and i not in modified_str:\n",
        "      modified_str+=i\n",
        "  elif i == x[0] and i in modified_str:\n",
        "      modified_str+=p\n",
        "  else:\n",
        "      modified_str+=i\n",
        "\n",
        "print(\"Replaced String : \" + str(modified_str))\n",
        "\n"
      ]
    },
    {
      "cell_type": "markdown",
      "source": [
        "(7) Write a Python program using a while loop to compute the factorial of a user-supplied number."
      ],
      "metadata": {
        "id": "qVXA3q7ET5JI"
      }
    },
    {
      "cell_type": "code",
      "source": [
        "# write your answer here\n",
        "\n",
        "num = int(input(\"Enter a number : \"))\n",
        "factorial = 1\n",
        "while num > 1:\n",
        "    factorial = factorial * num\n",
        "    num = num - 1\n",
        "\n",
        "print(\"The factorial of a user entered number is: \",factorial)\n",
        "\n"
      ],
      "metadata": {
        "id": "Lbt7R6UkT7BA",
        "colab": {
          "base_uri": "https://localhost:8080/"
        },
        "outputId": "cde3c88a-6973-42ff-88fe-b250df619a94"
      },
      "execution_count": 66,
      "outputs": [
        {
          "output_type": "stream",
          "name": "stdout",
          "text": [
            "Enter a number : 6\n",
            "The factorial of a user entered number is:  720\n"
          ]
        }
      ]
    },
    {
      "cell_type": "markdown",
      "source": [
        "(8) Create a program that accepts a list of numbers as input and outputs a new list containing only the even numbers."
      ],
      "metadata": {
        "id": "6YfbzXMNT--R"
      }
    },
    {
      "cell_type": "code",
      "source": [
        "# write your answer here\n",
        "lst = []\n",
        "\n",
        "x = int(input(\"Enter number of elements : \"))\n",
        "\n",
        "for i in range(0, x):\n",
        "  ele = int(input())\n",
        "  if(ele % 2) == 0:\n",
        "\t    lst.append(ele)\n",
        "\n",
        "print(\"The new list which contains only even numbers :\",lst)"
      ],
      "metadata": {
        "id": "54q7wMQPUAKu",
        "colab": {
          "base_uri": "https://localhost:8080/"
        },
        "outputId": "aab63588-3bc3-4a58-e40c-1f2c11c8dc5f"
      },
      "execution_count": 67,
      "outputs": [
        {
          "output_type": "stream",
          "name": "stdout",
          "text": [
            "Enter number of elements : 3\n",
            "1\n",
            "2\n",
            "3\n",
            "The new list which contains only even numbers : [2]\n"
          ]
        }
      ]
    },
    {
      "cell_type": "markdown",
      "metadata": {
        "id": "_bIP7s1MCzue"
      },
      "source": [
        "\n",
        "(9) Design a Python function to check if a number is prime.\n"
      ]
    },
    {
      "cell_type": "code",
      "execution_count": 68,
      "metadata": {
        "id": "w79QilHXD3Mg",
        "colab": {
          "base_uri": "https://localhost:8080/"
        },
        "outputId": "5839b341-02fc-42f4-a3b1-a509db0cdc25"
      },
      "outputs": [
        {
          "output_type": "stream",
          "name": "stdout",
          "text": [
            "Enter a number: 5\n",
            "5 is a prime number\n"
          ]
        }
      ],
      "source": [
        "# write your answer here\n",
        "x = int(input(\"Enter a number: \"))\n",
        "\n",
        "flag = False\n",
        "\n",
        "if x == 1:\n",
        "    print(x, \"is not a prime number\")\n",
        "elif x > 1:\n",
        "    for i in range(2, x):\n",
        "        if (x % i) == 0:\n",
        "            flag = True\n",
        "            break\n",
        "\n",
        "    if flag:\n",
        "        print(x, \"is not a prime number\")\n",
        "    else:\n",
        "        print(x, \"is a prime number\")"
      ]
    },
    {
      "cell_type": "markdown",
      "metadata": {
        "id": "xCa2bK9aD4Q3"
      },
      "source": [
        "(10) Write a Python program to concatenate following dictionaries to create a new one.\n",
        "\n",
        "Sample Dictionary : dic1={1:10, 2:20}, dic2={3:30, 4:40}, dic3={5:50,6:60},\n",
        "\n",
        "Expected Result : {1: 10, 2: 20, 3: 30, 4: 40, 5: 50, 6: 60}\n"
      ]
    },
    {
      "cell_type": "code",
      "execution_count": 83,
      "metadata": {
        "id": "_z4aLqAbEET1",
        "colab": {
          "base_uri": "https://localhost:8080/"
        },
        "outputId": "e9c08787-fd4a-4deb-8b50-1290c6e49df4"
      },
      "outputs": [
        {
          "output_type": "stream",
          "name": "stdout",
          "text": [
            "Result: {1: 10, 2: 20, 3: 30, 4: 40, 5: 50, 6: 60}\n"
          ]
        }
      ],
      "source": [
        "# write your answer here\n",
        "dic1 = {1: 10, 2: 20}\n",
        "dic2 = {3: 30, 4: 40}\n",
        "dic3 = {5: 50, 6: 60}\n",
        "\n",
        "result_dict = {}\n",
        "\n",
        "\n",
        "result_dict.update(dic1)\n",
        "result_dict.update(dic2)\n",
        "result_dict.update(dic3)\n",
        "\n",
        "\n",
        "print(\"Result:\", result_dict)\n"
      ]
    },
    {
      "cell_type": "markdown",
      "source": [
        "(11) Design a Python function that takes a tuple of integers as input and returns the largest and smallest elements."
      ],
      "metadata": {
        "id": "bkyZ2xSZUOst"
      }
    },
    {
      "cell_type": "code",
      "source": [
        "# write your answer here\n",
        "def find_largest_and_smallest(input_tuple):\n",
        "    if not input_tuple or not all(isinstance(num, int) for num in input_tuple):\n",
        "        return None\n",
        "\n",
        "    largest = smallest = input_tuple[0]\n",
        "\n",
        "    for num in input_tuple:\n",
        "        if num > largest:\n",
        "            largest = num\n",
        "        elif num < smallest:\n",
        "            smallest = num\n",
        "\n",
        "    return largest, smallest\n",
        "\n",
        "\n",
        "input_tuple = tuple(map(int, input(\"Enter a tuple of integers (comma-separated): \").split(\",\")))\n",
        "\n",
        "result = find_largest_and_smallest(input_tuple)\n",
        "\n",
        "if result is not None:\n",
        "    largest, smallest = result\n",
        "    print(\"Largest element:\", largest)\n",
        "    print(\"Smallest element:\", smallest)\n",
        "else:\n",
        "    print(\"Invalid input. Please provide a valid tuple of integers.\")"
      ],
      "metadata": {
        "id": "3FdLRBKOUQEd",
        "colab": {
          "base_uri": "https://localhost:8080/"
        },
        "outputId": "c9a28ecb-4206-4db5-867c-e28f87dc473c"
      },
      "execution_count": 70,
      "outputs": [
        {
          "output_type": "stream",
          "name": "stdout",
          "text": [
            "Enter a tuple of integers (comma-separated): 4,6\n",
            "Largest element: 6\n",
            "Smallest element: 4\n"
          ]
        }
      ]
    },
    {
      "cell_type": "markdown",
      "source": [
        "(12) Write a Python program that counts the frequency of each character in a given string and stores it in a dictionary."
      ],
      "metadata": {
        "id": "O0TVi3gKUTpp"
      }
    },
    {
      "cell_type": "code",
      "source": [
        "# write your answer here\n",
        "x = input(\"Enter a String : \")\n",
        "occ = {}\n",
        "\n",
        "for n in x:\n",
        "  if n in occ:\n",
        "    occ[n] += 1\n",
        "  else:\n",
        "    occ[n] = 1\n",
        "\n",
        "print(\"The num of each character repeated in a given string: \", str(occ))\n"
      ],
      "metadata": {
        "id": "lAtfSfZXUU-h",
        "colab": {
          "base_uri": "https://localhost:8080/"
        },
        "outputId": "63f2c8a9-83a9-4e62-9233-6965c270a6bc"
      },
      "execution_count": 71,
      "outputs": [
        {
          "output_type": "stream",
          "name": "stdout",
          "text": [
            "Enter a String : Raghu\n",
            "The num of each character repeated in a given string:  {'R': 1, 'a': 1, 'g': 1, 'h': 1, 'u': 1}\n"
          ]
        }
      ]
    },
    {
      "cell_type": "markdown",
      "metadata": {
        "id": "0v48Vqa7FrQh"
      },
      "source": [
        "(13) Implement a Python script to identify duplicate elements in a provided array of integers. Return -1 if there are no duplicates."
      ]
    },
    {
      "cell_type": "code",
      "execution_count": 86,
      "metadata": {
        "id": "7WEmgq-DF2P1",
        "colab": {
          "base_uri": "https://localhost:8080/"
        },
        "outputId": "512e802f-2fd0-4634-878d-2589bca7e836"
      },
      "outputs": [
        {
          "output_type": "stream",
          "name": "stdout",
          "text": [
            "Enter number of elements : 7\n",
            "4\n",
            "5\n",
            "5\n",
            "6\n",
            "6\n",
            "7\n",
            "2\n",
            "[4, 5, 5, 6, 6, 7, 2]\n",
            "Duplicate elements: [5, 6]\n"
          ]
        }
      ],
      "source": [
        "# write your answer here\n",
        "lst = []\n",
        "\n",
        "x = int(input(\"Enter number of elements : \"))\n",
        "\n",
        "for i in range(0, x):\n",
        "  ele = int(input())\n",
        "  lst.append(ele)\n",
        "\n",
        "print(lst)\n",
        "\n",
        "seen_elements = set()\n",
        "same = []\n",
        "\n",
        "def duplicate(arr):\n",
        "  for j in range(0,x):\n",
        "    for k in range((j+1),x):\n",
        "      if lst[j] == lst[k] and lst[j] not in same:\n",
        "        same.append(lst[j])\n",
        "      else:\n",
        "        seen_elements.add(lst[j])\n",
        "\n",
        "  if not same:\n",
        "    return -1\n",
        "  else:\n",
        "    return same\n",
        "\n",
        "result = duplicate(lst)\n",
        "\n",
        "if result == -1:\n",
        "    print(\"No duplicates found.\", result)\n",
        "else:\n",
        "    print(\"Duplicate elements:\", result)"
      ]
    },
    {
      "cell_type": "markdown",
      "metadata": {
        "id": "vD5PYLMuGga_"
      },
      "source": [
        "(14) Write a Python script to find the common elements between two lists."
      ]
    },
    {
      "cell_type": "code",
      "execution_count": 87,
      "metadata": {
        "id": "t0D5kdJUGjjw",
        "colab": {
          "base_uri": "https://localhost:8080/"
        },
        "outputId": "b3dec5ca-8476-4c08-ef76-d6509b6ed7f7"
      },
      "outputs": [
        {
          "output_type": "stream",
          "name": "stdout",
          "text": [
            "Enter the elements of the first list: 1 3 4 4 6\n",
            "Enter the elements of the second list: 1 6 7 9 0\n",
            "Common elements: [1, 6]\n"
          ]
        }
      ],
      "source": [
        "# write your answer here\n",
        "def find_common_elements(list1, list2):\n",
        "    numbers1 = [int(x) for x in list1.split()]\n",
        "    numbers2 = [int(x) for x in list2.split()]\n",
        "    common_elements = []\n",
        "\n",
        "    for item in numbers1:\n",
        "        if item in numbers2 and item not in common_elements:\n",
        "            common_elements.append(item)\n",
        "\n",
        "    return common_elements\n",
        "\n",
        "list1 = input(\"Enter the elements of the first list: \")\n",
        "list2 = input(\"Enter the elements of the second list: \")\n",
        "\n",
        "result = find_common_elements(list1, list2)\n",
        "print(\"Common elements:\", result)"
      ]
    },
    {
      "cell_type": "markdown",
      "metadata": {
        "id": "uHkd-y5VhVWC"
      },
      "source": [
        "(15) Write a Python program to randomly divide the students in this class into six groups for term projects, each group should have at least 4 students but no more than 6 students (including 6).\n",
        "\n",
        "Here is the students list:\n",
        "\n",
        "student_list_spring_2024=[rb0846,\n",
        "ac1964,\n",
        "hc0612,\n",
        "md0912,\n",
        "ad1198,\n",
        "md0894,\n",
        "md0825,\n",
        "vg0598,\n",
        "vg0433,\n",
        "mh1068,\n",
        "yj0173,\n",
        "pk0553,\n",
        "tk0411,\n",
        "srk0204,\n",
        "sk2922,\n",
        "sk2936,\n",
        "mk1302,\n",
        "mk1317,\n",
        "tk0412,\n",
        "vk0656,\n",
        "sm2985,\n",
        "mm2372,\n",
        "un0045,\n",
        "an0892,\n",
        "sn0913,\n",
        "gp0252,\n",
        "ap1484,\n",
        "mr1765,\n",
        "sr1385,\n",
        "sr1335,\n",
        "hs0665,\n",
        "ms2060,\n",
        "gt0217,\n",
        "nt0385,\n",
        "tv0186,\n",
        "sv1394,\n",
        "sv1752,\n",
        "sv1555,\n",
        "sy0594\n",
        "]\n"
      ]
    },
    {
      "cell_type": "code",
      "execution_count": 74,
      "metadata": {
        "id": "3iGbmcOBhTwy",
        "colab": {
          "base_uri": "https://localhost:8080/"
        },
        "outputId": "fbcee604-959e-4000-9194-7d5feb4aaaf5"
      },
      "outputs": [
        {
          "output_type": "stream",
          "name": "stdout",
          "text": [
            "Group 1: ['pk0553', 'ms2060', 'vg0433', 'sr1385']\n",
            "Group 2: ['md0894', 'nt0385', 'tk0412', 'rb0846']\n",
            "Group 3: ['gp0252', 'ac1964', 'hs0665', 'mh1068']\n",
            "Group 4: ['mm2372', 'an0892', 'ad1198', 'tk0411']\n",
            "Group 5: ['md0825', 'vk0656', 'sv1394', 'gt0217']\n",
            "Group 6: ['sn0913', 'vg0598', 'mk1317', 'un0045']\n",
            "Group 7: ['hc0612', 'md0912', 'sk2922', 'yj0173']\n",
            "Group 8: ['sm2985', 'sr1335', 'srk0204', 'mr1765']\n",
            "Group 9: ['tv0186', 'sv1555', 'sv1752', 'sy0594']\n",
            "Group 10: ['sk2936', 'ap1484', 'mk1302']\n"
          ]
        }
      ],
      "source": [
        "# write your answer here\n",
        "import random\n",
        "\n",
        "def divide_students_into_groups(student_list):\n",
        "\n",
        "    random.shuffle(student_list)\n",
        "\n",
        "\n",
        "    students_per_group = 4\n",
        "\n",
        "    groups = [student_list[i:i+students_per_group] for i in range(0, len(student_list), students_per_group)]\n",
        "\n",
        "    return groups\n",
        "\n",
        "\n",
        "student_list_spring_2024 = [\"rb0846\", \"ac1964\", \"hc0612\", \"md0912\", \"ad1198\", \"md0894\", \"md0825\", \"vg0598\", \"vg0433\",\n",
        "                            \"mh1068\", \"yj0173\", \"pk0553\", \"tk0411\", \"srk0204\", \"sk2922\", \"sk2936\", \"mk1302\", \"mk1317\",\n",
        "                            \"tk0412\", \"vk0656\", \"sm2985\", \"mm2372\", \"un0045\", \"an0892\", \"sn0913\", \"gp0252\", \"ap1484\",\n",
        "                            \"mr1765\", \"sr1385\", \"sr1335\", \"hs0665\", \"ms2060\", \"gt0217\", \"nt0385\", \"tv0186\", \"sv1394\",\n",
        "                            \"sv1752\", \"sv1555\", \"sy0594\"]\n",
        "\n",
        "\n",
        "groups = divide_students_into_groups(student_list_spring_2024)\n",
        "\n",
        "\n",
        "for i, group in enumerate(groups, start=1):\n",
        "    print(f\"Group {i}: {group}\")"
      ]
    },
    {
      "cell_type": "markdown",
      "metadata": {
        "id": "fmZ9vX20Qs3d"
      },
      "source": [
        "(16) Create a program that takes a positive integer 'n' as input and prints the count of even numbers from 1 to 'n'. Optimize the loop using the break statement."
      ]
    },
    {
      "cell_type": "code",
      "execution_count": 75,
      "metadata": {
        "id": "W8Jw6sWMQs3d",
        "colab": {
          "base_uri": "https://localhost:8080/"
        },
        "outputId": "768919b6-f412-41c2-e3d8-2cbbfaf72d33"
      },
      "outputs": [
        {
          "name": "stdout",
          "output_type": "stream",
          "text": [
            "Enter the number: 5\n"
          ]
        },
        {
          "output_type": "execute_result",
          "data": {
            "text/plain": [
              "2"
            ]
          },
          "metadata": {},
          "execution_count": 75
        }
      ],
      "source": [
        "# write your answer here\n",
        "def even_count(x):\n",
        "  freq = 0\n",
        "  for i in range(1, x):\n",
        "    if(i % 2 == 0):\n",
        "      freq = freq + 1\n",
        "    elif(i > x):\n",
        "      break\n",
        "  return freq\n",
        "\n",
        "\n",
        "x = int(input(\"Enter the number: \"))\n",
        "even_count(x)\n"
      ]
    },
    {
      "cell_type": "markdown",
      "metadata": {
        "id": "hvq4APMhQs3d"
      },
      "source": [
        "(17) Develop a Python function called 'count_vowels' that takes a string as input and returns the count of vowels (both lowercase and uppercase) present in the string, ignoring spaces and non-alphabetic characters."
      ]
    },
    {
      "cell_type": "code",
      "execution_count": 76,
      "metadata": {
        "id": "ZnoxhSglQs3d",
        "colab": {
          "base_uri": "https://localhost:8080/"
        },
        "outputId": "411b323c-1090-41f5-d0b6-fb4655bf35e0"
      },
      "outputs": [
        {
          "name": "stdout",
          "output_type": "stream",
          "text": [
            "Enter the string: pooja\n"
          ]
        },
        {
          "output_type": "execute_result",
          "data": {
            "text/plain": [
              "3"
            ]
          },
          "metadata": {},
          "execution_count": 76
        }
      ],
      "source": [
        "# write your answer here\n",
        "def count_vowels(x):\n",
        "  y = [\"a\",\"e\",\"i\",\"o\",\"u\",\"A\",\"E\",\"I\",\"O\",\"U\"]\n",
        "  freq = 0\n",
        "  for i in x:\n",
        "    if(i.isalpha() and i in y):\n",
        "      freq += 1\n",
        "  return freq\n",
        "\n",
        "x = input(\"Enter the string: \")\n",
        "count_vowels(x)"
      ]
    },
    {
      "cell_type": "markdown",
      "source": [
        "(18) Create a custom exception named ValueTooSmallError in Python. Write a program that takes user input for an age, and if the entered age is less than 18, raise the ValueTooSmallError with an appropriate error message."
      ],
      "metadata": {
        "id": "55FWoSJPVVM6"
      }
    },
    {
      "cell_type": "code",
      "source": [
        "4# write your answer here\n",
        "class ValueTooSmallError(Exception):\n",
        "    pass\n",
        "\n",
        "def check_age(age):\n",
        "    if age < 18:\n",
        "        raise ValueTooSmallError(\"Error: Age must be 18 or older.\")\n",
        "    else:\n",
        "        print(\"Age is valid.\")\n",
        "\n",
        "\n",
        "try:\n",
        "    user_age = int(input(\"Enter your age: \"))\n",
        "    check_age(user_age)\n",
        "except ValueError:\n",
        "    print(\"Error: Please enter a valid numeric age.\")\n",
        "except ValueTooSmallError as e:\n",
        "    print(e)"
      ],
      "metadata": {
        "id": "hwtr1wZmVX5A",
        "colab": {
          "base_uri": "https://localhost:8080/"
        },
        "outputId": "2ae2c8e3-4263-4bd3-c895-ef826eea6db6"
      },
      "execution_count": 77,
      "outputs": [
        {
          "output_type": "stream",
          "name": "stdout",
          "text": [
            "Enter your age: 17\n",
            "Error: Age must be 18 or older.\n"
          ]
        }
      ]
    },
    {
      "cell_type": "markdown",
      "source": [
        "(19) Develop a script that reverses a given string without using built-in reverse functions."
      ],
      "metadata": {
        "id": "Q9ecagcaVazW"
      }
    },
    {
      "cell_type": "code",
      "source": [
        "# write your answer here\n",
        "def rever(x):\n",
        "  y = x[::-1]\n",
        "  return y\n",
        "\n",
        "x = input(\"Enter the string: \")\n",
        "rever(x)"
      ],
      "metadata": {
        "id": "gycgckoAVZjR",
        "colab": {
          "base_uri": "https://localhost:8080/",
          "height": 52
        },
        "outputId": "eed02ce8-f870-4450-c620-3841e8181467"
      },
      "execution_count": 78,
      "outputs": [
        {
          "name": "stdout",
          "output_type": "stream",
          "text": [
            "Enter the string: bhoomi\n"
          ]
        },
        {
          "output_type": "execute_result",
          "data": {
            "text/plain": [
              "'imoohb'"
            ],
            "application/vnd.google.colaboratory.intrinsic+json": {
              "type": "string"
            }
          },
          "metadata": {},
          "execution_count": 78
        }
      ]
    },
    {
      "cell_type": "markdown",
      "source": [
        "(20) Implement a Python script to generate a random password of a specified length."
      ],
      "metadata": {
        "id": "ZFG6RibifMLu"
      }
    },
    {
      "cell_type": "code",
      "source": [
        "# write your answer here\n",
        "import secrets\n",
        "import string\n",
        "\n",
        "def random_password(length):\n",
        "    chars = string.ascii_letters + string.digits + string.punctuation\n",
        "    password = ''.join(secrets.choice(chars) for _ in range(length))\n",
        "    return password\n",
        "\n",
        "\n",
        "pass_length = int(input(\"Enter the desired length of the password: \"))\n",
        "random_password = random_password(pass_length)\n",
        "\n",
        "print(\"Generated Password:\", random_password)"
      ],
      "metadata": {
        "id": "BFVrkEi9fNiD",
        "colab": {
          "base_uri": "https://localhost:8080/"
        },
        "outputId": "c8ee4e30-aac0-418c-f4c9-218a81c74f3d"
      },
      "execution_count": 79,
      "outputs": [
        {
          "output_type": "stream",
          "name": "stdout",
          "text": [
            "Enter the desired length of the password: 4\n",
            "Generated Password: \\9}O\n"
          ]
        }
      ]
    },
    {
      "cell_type": "markdown",
      "source": [
        "# Try these questions:"
      ],
      "metadata": {
        "id": "6SmvS7nSfbj8"
      }
    },
    {
      "cell_type": "markdown",
      "source": [
        "(21) Define a base class called 'Vehicle' with attributes make and model. Create a derived class Car that inherits from Vehicle and has an additional attribute 'num_doors'. Demonstrate an example of creating an instance of the 'Car' class and accessing its attributes."
      ],
      "metadata": {
        "id": "cboAr5pEWUf5"
      }
    },
    {
      "cell_type": "code",
      "source": [
        "# write your answer here\n",
        "class Vehicle:\n",
        "  def __init__(self, make, model):\n",
        "    self.make = make\n",
        "    self.model = model\n",
        "class Car(Vehicle):\n",
        "  def __init__(self,make,model,num_doors):\n",
        "    super().__init__(make,model)\n",
        "    self.num_doors = num_doors\n",
        "\n",
        "Instance_car = Car(make = 'Chrysler',model = '200r',num_doors = 4)\n",
        "\n",
        "print(\"Make:\", Instance_car.make)\n",
        "print(\"Model:\", Instance_car.model)\n",
        "print(\"Number of Doors:\", Instance_car.num_doors)\n",
        "\n"
      ],
      "metadata": {
        "id": "phs9gciMWWAW",
        "colab": {
          "base_uri": "https://localhost:8080/"
        },
        "outputId": "7d2a3969-0311-47e2-8308-72d3a98f2d12"
      },
      "execution_count": 80,
      "outputs": [
        {
          "output_type": "stream",
          "name": "stdout",
          "text": [
            "Make: Chrysler\n",
            "Model: 200r\n",
            "Number of Doors: 4\n"
          ]
        }
      ]
    },
    {
      "cell_type": "markdown",
      "source": [
        "(22) Create a class called 'Shape' with a method calculate_area(). Implement two derived classes 'Circle' and 'Rectangle' that inherit from Shape and override the calculate_area() method. Demonstrate polymorphism by creating instances of both derived classes and calling the calculate_area() method."
      ],
      "metadata": {
        "id": "J8HHefNtePwd"
      }
    },
    {
      "cell_type": "code",
      "source": [
        "# write your answer here\n",
        "import math\n",
        "\n",
        "class Shape:\n",
        "    def calculate_area(self):\n",
        "        pass\n",
        "\n",
        "class Circle(Shape):\n",
        "    def __init__(self, radius):\n",
        "        self.radius = radius\n",
        "\n",
        "    def calculate_area(self):\n",
        "        return math.pi * self.radius ** 2\n",
        "\n",
        "class Rectangle(Shape):\n",
        "    def __init__(self, length, width):\n",
        "        self.length = length\n",
        "        self.width = width\n",
        "\n",
        "    def calculate_area(self):\n",
        "        return self.length * self.width\n",
        "\n",
        "\n",
        "Instance_circle = Circle(int(input(\"Enter the radius of the circle :\")))\n",
        "length = int(input(\"Enter the length of the Rectangle :\"))\n",
        "width = int(input(\"Enter the width of the Rectangle :\"))\n",
        "Instance_rect = Rectangle(length, width)\n",
        "\n",
        "\n",
        "print(\"Area of Circle:\", Instance_circle.calculate_area())\n",
        "print(\"Area of Rectangle:\", Instance_rect.calculate_area())"
      ],
      "metadata": {
        "id": "btnMmUZDeRhS",
        "colab": {
          "base_uri": "https://localhost:8080/"
        },
        "outputId": "038326b7-7edf-4c92-8423-bd257f1c2a27"
      },
      "execution_count": 89,
      "outputs": [
        {
          "output_type": "stream",
          "name": "stdout",
          "text": [
            "Enter the radius of the circle :10\n",
            "Enter the length of the Rectangle :5\n",
            "Enter the width of the Rectangle :7\n",
            "Area of Circle: 314.1592653589793\n",
            "Area of Rectangle: 35\n"
          ]
        }
      ]
    },
    {
      "cell_type": "markdown",
      "source": [
        "(23) Write a Python program that prompts the user to enter two numbers and perform a division operation. Handle exceptions for both zero division and invalid input (non-numeric input). Display appropriate error messages for each type of exception and ensure the program does not crash due to these errors."
      ],
      "metadata": {
        "id": "z0oqEAlTeMUS"
      }
    },
    {
      "cell_type": "code",
      "source": [
        "# write your answer here\n",
        "def divide():\n",
        "    try:\n",
        "\n",
        "        first = float(input(\"Enter the first number: \"))\n",
        "        second = float(input(\"Enter the second number: \"))\n",
        "\n",
        "\n",
        "        result = first /  second\n",
        "\n",
        "\n",
        "        print(\"Result of division:\", result)\n",
        "\n",
        "    except ValueError:\n",
        "        print(\"Error: Please enter valid numeric input.\")\n",
        "\n",
        "    except ZeroDivisionError:\n",
        "        print(\"Error: Division by zero is not allowed.\")\n",
        "\n",
        "\n",
        "divide()"
      ],
      "metadata": {
        "id": "yjdc1zM1eMAs",
        "colab": {
          "base_uri": "https://localhost:8080/"
        },
        "outputId": "c3b7499b-0624-4ff0-afe5-77a1037cc7a9"
      },
      "execution_count": 82,
      "outputs": [
        {
          "output_type": "stream",
          "name": "stdout",
          "text": [
            "Enter the first number: 4\n",
            "Enter the second number: 3\n",
            "Result of division: 1.3333333333333333\n"
          ]
        }
      ]
    },
    {
      "cell_type": "markdown",
      "source": [
        "# Mandatory Question"
      ],
      "metadata": {
        "id": "sZOhks1dXWEe"
      }
    },
    {
      "cell_type": "markdown",
      "source": [
        "**Important:**\n",
        "Reflecting on the first three lectures and the exercises you've completed, please provide feedback on your learning experience. Share your thoughts on whether the material covered was clear, the exercises were helpful, and if you feel more confident in applying Python programming concepts. Additionally, mention any specific areas where you would like more clarification or topics you would like to explore further in future lectures. Your feedback is valuable in shaping the course for an effective learning journey."
      ],
      "metadata": {
        "id": "eqmHVEwaWhbV"
      }
    },
    {
      "cell_type": "markdown",
      "source": [
        "Write your response here."
      ],
      "metadata": {
        "id": "HlpXOT9wXQAd"
      }
    },
    {
      "cell_type": "code",
      "source": [
        " Hey, It was over all good. The lectures were explained so good.\n",
        " May be the time of the Demo should be increased, so that the people who are new to python can unserstand the examples explained in the class.\n",
        " Apart from these as were from the electronics background , we are not that much hard coders as all of others. We consume more time  to solve\n",
        " these all coding questions. If this happens as a class exercise it will be diffcult to solve all the questions at a time. The Pdfs and all other stuff were good.\n",
        " Needs some time to master in python by practice and this helps a lot more for us study."
      ],
      "metadata": {
        "id": "Dq2aOZU7XIke"
      },
      "execution_count": null,
      "outputs": []
    }
  ],
  "metadata": {
    "colab": {
      "provenance": [],
      "include_colab_link": true
    },
    "kernelspec": {
      "display_name": "Python 3 (ipykernel)",
      "language": "python",
      "name": "python3"
    },
    "language_info": {
      "codemirror_mode": {
        "name": "ipython",
        "version": 3
      },
      "file_extension": ".py",
      "mimetype": "text/x-python",
      "name": "python",
      "nbconvert_exporter": "python",
      "pygments_lexer": "ipython3",
      "version": "3.9.12"
    }
  },
  "nbformat": 4,
  "nbformat_minor": 0
}